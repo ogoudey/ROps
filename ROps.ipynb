{
  "nbformat": 4,
  "nbformat_minor": 0,
  "metadata": {
    "colab": {
      "provenance": []
    },
    "kernelspec": {
      "name": "python3",
      "display_name": "Python 3"
    },
    "language_info": {
      "name": "python"
    }
  },
  "cells": [
    {
      "cell_type": "markdown",
      "source": [
        "# **Scene**"
      ],
      "metadata": {
        "id": "h-aIyZYFGZA1"
      }
    },
    {
      "cell_type": "markdown",
      "source": [
        "## Setup"
      ],
      "metadata": {
        "id": "P_GXoU5HGy4Q"
      }
    },
    {
      "cell_type": "code",
      "execution_count": 1,
      "metadata": {
        "colab": {
          "base_uri": "https://localhost:8080/"
        },
        "id": "I-QLyEmkzP3v",
        "outputId": "f06bc9fb-ca2e-43c0-e84b-c7a42eacbf58"
      },
      "outputs": [
        {
          "output_type": "stream",
          "name": "stdout",
          "text": [
            "Requirement already satisfied: openai in /usr/local/lib/python3.10/dist-packages (1.54.4)\n",
            "Requirement already satisfied: anyio<5,>=3.5.0 in /usr/local/lib/python3.10/dist-packages (from openai) (3.7.1)\n",
            "Requirement already satisfied: distro<2,>=1.7.0 in /usr/local/lib/python3.10/dist-packages (from openai) (1.9.0)\n",
            "Requirement already satisfied: httpx<1,>=0.23.0 in /usr/local/lib/python3.10/dist-packages (from openai) (0.27.2)\n",
            "Requirement already satisfied: jiter<1,>=0.4.0 in /usr/local/lib/python3.10/dist-packages (from openai) (0.7.1)\n",
            "Requirement already satisfied: pydantic<3,>=1.9.0 in /usr/local/lib/python3.10/dist-packages (from openai) (2.9.2)\n",
            "Requirement already satisfied: sniffio in /usr/local/lib/python3.10/dist-packages (from openai) (1.3.1)\n",
            "Requirement already satisfied: tqdm>4 in /usr/local/lib/python3.10/dist-packages (from openai) (4.66.6)\n",
            "Requirement already satisfied: typing-extensions<5,>=4.11 in /usr/local/lib/python3.10/dist-packages (from openai) (4.12.2)\n",
            "Requirement already satisfied: idna>=2.8 in /usr/local/lib/python3.10/dist-packages (from anyio<5,>=3.5.0->openai) (3.10)\n",
            "Requirement already satisfied: exceptiongroup in /usr/local/lib/python3.10/dist-packages (from anyio<5,>=3.5.0->openai) (1.2.2)\n",
            "Requirement already satisfied: certifi in /usr/local/lib/python3.10/dist-packages (from httpx<1,>=0.23.0->openai) (2024.8.30)\n",
            "Requirement already satisfied: httpcore==1.* in /usr/local/lib/python3.10/dist-packages (from httpx<1,>=0.23.0->openai) (1.0.7)\n",
            "Requirement already satisfied: h11<0.15,>=0.13 in /usr/local/lib/python3.10/dist-packages (from httpcore==1.*->httpx<1,>=0.23.0->openai) (0.14.0)\n",
            "Requirement already satisfied: annotated-types>=0.6.0 in /usr/local/lib/python3.10/dist-packages (from pydantic<3,>=1.9.0->openai) (0.7.0)\n",
            "Requirement already satisfied: pydantic-core==2.23.4 in /usr/local/lib/python3.10/dist-packages (from pydantic<3,>=1.9.0->openai) (2.23.4)\n"
          ]
        }
      ],
      "source": [
        "!pip install openai"
      ]
    },
    {
      "cell_type": "code",
      "source": [
        "from openai import OpenAI\n",
        "import json\n",
        "\n",
        "from datetime import datetime\n",
        "# from IPython import get_ipython\n"
      ],
      "metadata": {
        "id": "b2ONPJzV0zJG"
      },
      "execution_count": 51,
      "outputs": []
    },
    {
      "cell_type": "code",
      "source": [
        "client = OpenAI(api_key=\"\")\n",
        "\n",
        "\n"
      ],
      "metadata": {
        "id": "-dSLuXUx09yF"
      },
      "execution_count": 3,
      "outputs": []
    },
    {
      "cell_type": "markdown",
      "source": [
        "## Definitions"
      ],
      "metadata": {
        "id": "2u_UU66fG3_S"
      }
    },
    {
      "cell_type": "code",
      "source": [],
      "metadata": {
        "id": "cmqgRfItoEkm"
      },
      "execution_count": null,
      "outputs": []
    },
    {
      "cell_type": "code",
      "source": [],
      "metadata": {
        "id": "WqM4w6IJ5HR6"
      },
      "execution_count": 54,
      "outputs": []
    },
    {
      "cell_type": "code",
      "source": [
        "def complete(text):\n",
        "  completion = client.chat.completions.create(\n",
        "    model=\"gpt-4o-mini\",\n",
        "    messages=[\n",
        "        {\"role\": \"system\",\n",
        "         \"content\": \"You are a helpful assistant. Do exactly what is told and keep responses minimal.\"},\n",
        "        {\n",
        "            \"role\": \"user\",\n",
        "            \"content\": text\n",
        "        }\n",
        "    ]\n",
        "  )\n",
        "  return completion.choices[0].message.content\n",
        "\n",
        "class Count:\n",
        "  # e.g. Coconut russet potatoes butternut squash Florida avocados Granny Smith apples gala apples delicata squash\n",
        "  def __init__(self, seq):\n",
        "    self.deformed = seq\n",
        "    prompt_dictify = 'Represent the following in a dictionary of the form {\"key\": number, ...}:\\n' + seq\n",
        "    try:\n",
        "      response = complete(prompt_dictify)\n",
        "      self.count = json.loads(response)\n",
        "    except json.JSONDecodeError:\n",
        "      print(\"LLM return not accepted:\\n\" + response)\n",
        "\n",
        "    self.time_stamp = datetime.now()\n",
        "\n",
        "class Enumerate:\n",
        "  # e.g. Coconut russet potatoes butternut squash Florida avocados Granny Smith apples gala apples delicata squash\n",
        "  def __init__(self, seq):\n",
        "    self.deformed = seq\n",
        "    prompt_listify = 'Represent the following in a JSON list of the form [\"item\", ...]. Return only that list in its raw form, not in markdown.:\\n' + seq\n",
        "    try:\n",
        "      response = complete(prompt_listify)\n",
        "      self.enumeration = json.loads(response)\n",
        "    except json.JSONDecodeError:\n",
        "      print(\"LLM return not accepted:\\n\" + response)\n",
        "\n",
        "    self.time_stamp = datetime.now()\n",
        "\n",
        "class Restock:\n",
        "  # e.g. grape tomatoes gala Fuji boss pears, Florida avocados\n",
        "  \"\"\"\n",
        "    prompt example needed\n",
        "  \"\"\"\n",
        "  def __init__(self, back, seq):\n",
        "    self.needed = seq\n",
        "    self.backstock = back\n",
        "    prompt_subtract = 'Subtract the first dictionary by just one of each from the second. For example {\"grapes\":2} - [\"grapes\"] is {\"grapes\":1}. Put dictionary in proper {(\"key\": number)} form, and delete entries with 0:\\n' + str(self.backstock) + '/n' + self.needed\n",
        "    try:\n",
        "      response = complete(prompt_subtract)\n",
        "      self.new_backstock = json.loads(response)\n",
        "    except json.JSONDecodeError:\n",
        "      print(\"LLM return not accepted:\\n\" + response)\n",
        "\n",
        "    self.time_stamp = datetime.now()\n",
        "\n",
        "class Add:\n",
        "  def __init__(self, prior, seq):\n",
        "    self.prior = prior\n",
        "    self.addant = seq\n",
        "    prompt_add = 'Add the second dictionary to the first dictionary. Put the dictionary in proper {(\"key\": number)} form, and return only the dictionary in its raw form, not in markdown. Also make sure to use double quotes on entries.\"\\n' + str(self.prior) + \"\\n\" + self.addant\n",
        "    try:\n",
        "      response = complete(prompt_add)\n",
        "      self.new_backstock = json.loads(response)\n",
        "    except json.JSONDecodeError:\n",
        "      print(\"LLM return not accepted:\\n\" + response)\n",
        "\n",
        "    self.time_stamp = datetime.now()\n",
        "\n",
        "\n",
        "class Backstock:\n",
        "  def __init__(self, inv):\n",
        "    self.inventory = inv # dict or list\n",
        "\n"
      ],
      "metadata": {
        "id": "kpUucPSY3LO9"
      },
      "execution_count": 70,
      "outputs": []
    },
    {
      "cell_type": "code",
      "source": [],
      "metadata": {
        "colab": {
          "base_uri": "https://localhost:8080/"
        },
        "id": "A5xXMx5M3knJ",
        "outputId": "1fb64d85-3ea3-43d5-e045-156488a9b3fa"
      },
      "execution_count": 53,
      "outputs": [
        {
          "output_type": "execute_result",
          "data": {
            "text/plain": [
              "datetime.datetime(2024, 12, 2, 14, 58, 40, 220707)"
            ]
          },
          "metadata": {},
          "execution_count": 53
        }
      ]
    },
    {
      "cell_type": "markdown",
      "source": [
        "## Examples"
      ],
      "metadata": {
        "id": "3riVX5uTzdZA"
      }
    },
    {
      "cell_type": "markdown",
      "source": [
        "### Freezer Restocking"
      ],
      "metadata": {
        "id": "aW1qcc0kzr6f"
      }
    },
    {
      "cell_type": "code",
      "source": [
        "freezer = Enumerate(\"peaches collard greens cut corn spinach veggie burger Blueberries Green peas Lean cuisine cavatelli peanut butter jelly sandwiches cooked shrimp raw shrimp tuna\")"
      ],
      "metadata": {
        "id": "KnWV1Mmqzg0L"
      },
      "execution_count": 23,
      "outputs": []
    },
    {
      "cell_type": "code",
      "source": [
        "freezer.enumeration"
      ],
      "metadata": {
        "colab": {
          "base_uri": "https://localhost:8080/"
        },
        "collapsed": true,
        "id": "yncA4UFB0CZX",
        "outputId": "b58e834d-21ed-4cb2-dd3d-ef4c56a99862"
      },
      "execution_count": 24,
      "outputs": [
        {
          "output_type": "execute_result",
          "data": {
            "text/plain": [
              "['peaches',\n",
              " 'collard greens',\n",
              " 'cut corn',\n",
              " 'spinach',\n",
              " 'veggie burger',\n",
              " 'Blueberries',\n",
              " 'Green peas',\n",
              " 'Lean cuisine cavatelli',\n",
              " 'peanut butter jelly sandwiches',\n",
              " 'cooked shrimp',\n",
              " 'raw shrimp',\n",
              " 'tuna']"
            ]
          },
          "metadata": {},
          "execution_count": 24
        }
      ]
    },
    {
      "cell_type": "markdown",
      "source": [
        "## Produce Restocking"
      ],
      "metadata": {
        "id": "hz0fmuFh0g_o"
      }
    },
    {
      "cell_type": "code",
      "source": [
        "dry = Count(\"three vine tomatoes one fuji apples one gala apples two butternut squash one basque pear one malanga coco\")\n"
      ],
      "metadata": {
        "id": "8i4QeF6v0mne"
      },
      "execution_count": 30,
      "outputs": []
    },
    {
      "cell_type": "code",
      "source": [
        "dry.count"
      ],
      "metadata": {
        "colab": {
          "base_uri": "https://localhost:8080/"
        },
        "id": "DfAEibP508jf",
        "outputId": "a8c480d6-85a3-4bb3-bebf-c35a687281be"
      },
      "execution_count": 31,
      "outputs": [
        {
          "output_type": "execute_result",
          "data": {
            "text/plain": [
              "{'vine tomatoes': 3,\n",
              " 'fuji apples': 1,\n",
              " 'gala apples': 1,\n",
              " 'butternut squash': 2,\n",
              " 'basque pear': 1,\n",
              " 'malanga coco': 1}"
            ]
          },
          "metadata": {},
          "execution_count": 31
        }
      ]
    },
    {
      "cell_type": "code",
      "source": [
        "restock = Restock(dry.count, \"vine tomatoes fuji apples, malanga coco\")"
      ],
      "metadata": {
        "id": "-K1EyYLo0Mc-"
      },
      "execution_count": 44,
      "outputs": []
    },
    {
      "cell_type": "code",
      "source": [
        "restock.new_backstock"
      ],
      "metadata": {
        "colab": {
          "base_uri": "https://localhost:8080/"
        },
        "id": "4cRXfmAJ13Vm",
        "outputId": "a65b46be-6364-4a69-c07d-7d910713babd"
      },
      "execution_count": 45,
      "outputs": [
        {
          "output_type": "execute_result",
          "data": {
            "text/plain": [
              "{'vine tomatoes': 2, 'gala apples': 1, 'butternut squash': 2, 'basque pear': 1}"
            ]
          },
          "metadata": {},
          "execution_count": 45
        }
      ]
    },
    {
      "cell_type": "markdown",
      "source": [
        "### Backstocking (Adding)"
      ],
      "metadata": {
        "id": "oAVE3Qh16YAo"
      }
    },
    {
      "cell_type": "code",
      "source": [
        "current_backstock = Count(\"three vine tomatoes one fuji apples one gala apples two butternut squash one basque pear one malanga coco\")"
      ],
      "metadata": {
        "id": "UP8l0mLP6aC2"
      },
      "execution_count": 63,
      "outputs": []
    },
    {
      "cell_type": "code",
      "source": [
        "backstock = Add(current_backstock.count, \"one fuji one granny smith one gala eight mangoes ginger garlic\")"
      ],
      "metadata": {
        "id": "XikFugQM6tKh"
      },
      "execution_count": 71,
      "outputs": []
    },
    {
      "cell_type": "code",
      "source": [
        "backstock.new_backstock"
      ],
      "metadata": {
        "colab": {
          "base_uri": "https://localhost:8080/"
        },
        "id": "iHXf0hwo8Muq",
        "outputId": "4da035d4-3e3b-4521-d8ed-a6abc2e39cf0"
      },
      "execution_count": 73,
      "outputs": [
        {
          "output_type": "execute_result",
          "data": {
            "text/plain": [
              "{'vine tomatoes': 3,\n",
              " 'fuji apples': 2,\n",
              " 'gala apples': 2,\n",
              " 'butternut squash': 2,\n",
              " 'basque pear': 1,\n",
              " 'malanga coco': 1,\n",
              " 'granny smith': 1,\n",
              " 'mangoes': 8,\n",
              " 'ginger': 1,\n",
              " 'garlic': 1}"
            ]
          },
          "metadata": {},
          "execution_count": 73
        }
      ]
    },
    {
      "cell_type": "markdown",
      "source": [
        "# Extra"
      ],
      "metadata": {
        "id": "m7H78yhzHBdh"
      }
    },
    {
      "cell_type": "code",
      "source": [
        "def get_notebook_text():\n",
        "    # Use IPython's magic to get the code of the entire notebook\n",
        "    shell = get_ipython()\n",
        "    notebook_text = \"\"\n",
        "\n",
        "    # Loop through all input cells to get their content\n",
        "    for cell in shell.history_manager.input_hist_parsed:\n",
        "\n",
        "        notebook_text += cell + \"\\n\"\n",
        "\n",
        "    return notebook_text\n",
        "\n",
        "\n",
        "# Call the function and print the notebook's text\n",
        "hmm = complete(\"I have the following python notebook that runs retail operations. What should I add?\" + get_notebook_text())\n"
      ],
      "metadata": {
        "id": "Nf3XUtg728Vs"
      },
      "execution_count": null,
      "outputs": []
    },
    {
      "cell_type": "code",
      "source": [
        "hmm"
      ],
      "metadata": {
        "colab": {
          "base_uri": "https://localhost:8080/",
          "height": 160
        },
        "id": "WCFsZ9BDJhz3",
        "outputId": "1fbb9630-1174-439f-9d95-2633ac5e3aa6"
      },
      "execution_count": null,
      "outputs": [
        {
          "output_type": "execute_result",
          "data": {
            "text/plain": [
              "'To enhance your Python notebook for retail operations, consider adding the following features:\\n\\n1. **User Input Handling**: Add functions to allow user input for stock management, making it interactive.\\n   \\n2. **Error Handling**: Implement try-except blocks to manage exceptions when interacting with OpenAI or JSON operations.\\n\\n3. **Data Visualization**: Include libraries like Matplotlib or Seaborn for visualizing stock levels and trends over time.\\n\\n4. **Data Storage**: Save the dry backstock data to a CSV or database for persistence.\\n\\n5. **Restocking Suggestions**: Create a feature to automatically generate restocking suggestions based on historical data.\\n\\n6. **Inventory Reports**: Add functions to generate summary reports of stock levels, including items that are low in quantity.\\n\\n7. **Unit Testing**: Implement unit tests to validate individual functions within the notebook, ensuring reliability.\\n\\n8. **Logging**: Introduce logging to keep track of operations performed, especially for any changes made to inventory.\\n\\n9. **User Interface**: Consider utilizing a library like Streamlit to create a simple web interface for the notebook.\\n\\n10. **Documentation**: Add Markdown cells explaining the purpose of the notebook and instructions for usage.\\n\\nImplementing these suggestions will improve usability, maintainability, and functionality.'"
            ],
            "application/vnd.google.colaboratory.intrinsic+json": {
              "type": "string"
            }
          },
          "metadata": {},
          "execution_count": 91
        }
      ]
    }
  ]
}